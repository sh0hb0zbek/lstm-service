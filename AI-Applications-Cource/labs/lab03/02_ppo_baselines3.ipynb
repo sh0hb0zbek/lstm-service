{
 "cells": [
  {
   "cell_type": "markdown",
   "id": "ee21f0d7",
   "metadata": {},
   "source": [
    "# Proximal Policy Optimization Algorithm\n",
    "### PPO agent using stable-baselines3\n",
    "\n",
    "\n",
    "### Import required libraries"
   ]
  },
  {
   "cell_type": "code",
   "execution_count": 1,
   "id": "9711b875",
   "metadata": {},
   "outputs": [],
   "source": [
    "from source import *\n",
    "from stable_baselines3 import PPO\n",
    "from stable_baselines3.ppo.policies import MlpPolicy\n",
    "from stable_baselines3.common.evaluation import evaluate_policy\n",
    "import matplotlib.pyplot as plt"
   ]
  },
  {
   "cell_type": "markdown",
   "id": "b58f45e7",
   "metadata": {},
   "source": [
    "### Environment - CartPole"
   ]
  },
  {
   "cell_type": "code",
   "execution_count": 2,
   "id": "2e3e2426",
   "metadata": {},
   "outputs": [],
   "source": [
    "env_name = 'CartPole-v1'"
   ]
  },
  {
   "cell_type": "markdown",
   "id": "c921d783",
   "metadata": {},
   "source": [
    "### Make an environment and test it"
   ]
  },
  {
   "cell_type": "code",
   "execution_count": 3,
   "id": "a0187bd5",
   "metadata": {},
   "outputs": [
    {
     "data": {
      "image/png": "[encoded data removed]",
      "text/plain": [
       "<Figure size 432x288 with 1 Axes>"
      ]
     },
     "metadata": {
      "needs_background": "light"
     },
     "output_type": "display_data"
    }
   ],
   "source": [
    "env = make_env(env_name)\n",
    "env.reset()\n",
    "plt.imshow(env.render(\"rgb_array\"))\n",
    "state_shape, n_actions = env.observation_space.shape, env.action_space.n\n",
    "state_dim = state_shape[0]\n",
    "env.close()"
   ]
  },
  {
   "cell_type": "markdown",
   "id": "cb6ba812",
   "metadata": {},
   "source": [
    "### Build a policy agent with PPO MlpPolicy"
   ]
  },
  {
   "cell_type": "code",
   "execution_count": 4,
   "id": "1aec1755",
   "metadata": {},
   "outputs": [],
   "source": [
    "model = PPO(MlpPolicy, env, verbose=0)"
   ]
  },
  {
   "cell_type": "markdown",
   "id": "02abc55b",
   "metadata": {},
   "source": [
    "### Test the untrained agent model"
   ]
  },
  {
   "cell_type": "code",
   "execution_count": 5,
   "id": "5da3fafe",
   "metadata": {},
   "outputs": [
    {
     "name": "stderr",
     "output_type": "stream",
     "text": [
      "/home/ubuntu/venv/deep_rl/lib/python3.8/site-packages/stable_baselines3/common/evaluation.py:65: UserWarning: Evaluation environment is not wrapped with a ``Monitor`` wrapper. This may result in reporting modified episode lengths and rewards, if other wrappers happen to modify these. Consider wrapping environment first with ``Monitor`` wrapper.\n",
      "  warnings.warn(\n"
     ]
    },
    {
     "name": "stdout",
     "output_type": "stream",
     "text": [
      "mean_reward:9.18 +/- 0.68\n"
     ]
    }
   ],
   "source": [
    "mean_reward, std_reward = evaluate_policy(model, env, n_eval_episodes=100)\n",
    "print(f\"mean_reward:{mean_reward:.2f} +/- {std_reward:.2f}\")"
   ]
  },
  {
   "cell_type": "markdown",
   "id": "b93508bb",
   "metadata": {},
   "source": [
    "### Train the agent"
   ]
  },
  {
   "cell_type": "code",
   "execution_count": 6,
   "id": "6ee6d43d",
   "metadata": {},
   "outputs": [
    {
     "data": {
      "text/plain": [
       "<stable_baselines3.ppo.ppo.PPO at 0x7ff7925a0dc0>"
      ]
     },
     "execution_count": 6,
     "metadata": {},
     "output_type": "execute_result"
    }
   ],
   "source": [
    "# train the agent for 20,000 steps\n",
    "model.learn(total_timesteps=20_000)"
   ]
  },
  {
   "cell_type": "markdown",
   "id": "0e9c34a0",
   "metadata": {},
   "source": [
    "### Evaluate the trained agent model"
   ]
  },
  {
   "cell_type": "code",
   "execution_count": 7,
   "id": "14c3942d",
   "metadata": {},
   "outputs": [
    {
     "name": "stdout",
     "output_type": "stream",
     "text": [
      "mean_reward:879.34 +/- 518.09\n"
     ]
    }
   ],
   "source": [
    "# evaluate the trained agent\n",
    "mean_reward, std_reward = evaluate_policy(model, env, n_eval_episodes=100)\n",
    "print(f\"mean_reward:{mean_reward:.2f} +/- {std_reward:.2f}\")"
   ]
  },
  {
   "cell_type": "markdown",
   "id": "86bb2f6b",
   "metadata": {},
   "source": [
    "### Record the agent on 'CartPole-v1' environment in length of 1000"
   ]
  },
  {
   "cell_type": "code",
   "execution_count": 8,
   "id": "0c37935f",
   "metadata": {},
   "outputs": [
    {
     "name": "stdout",
     "output_type": "stream",
     "text": [
      "Saving video to /media/ubuntu/uni/ai-applications/labs/lab03/videos/ppo/ppo2-cartpole-step-0-to-step-1000.mp4\n"
     ]
    }
   ],
   "source": [
    "record_video('CartPole-v1', model, video_length=1000, prefix='ppo2-cartpole', video_folder='videos/ppo')"
   ]
  },
  {
   "cell_type": "markdown",
   "id": "9172eb9d",
   "metadata": {},
   "source": [
    "### Task: try to improve the given agent and train another agent on a different environment"
   ]
  },
  {
   "cell_type": "code",
   "execution_count": null,
   "id": "620e35b0",
   "metadata": {},
   "outputs": [],
   "source": []
  }
 ],
 "metadata": {
  "kernelspec": {
   "display_name": "deep_rl",
   "language": "python",
   "name": "deep_rl"
  },
  "language_info": {
   "codemirror_mode": {
    "name": "ipython",
    "version": 3
   },
   "file_extension": ".py",
   "mimetype": "text/x-python",
   "name": "python",
   "nbconvert_exporter": "python",
   "pygments_lexer": "ipython3",
   "version": "3.8.10"
  }
 },
 "nbformat": 4,
 "nbformat_minor": 5
}
