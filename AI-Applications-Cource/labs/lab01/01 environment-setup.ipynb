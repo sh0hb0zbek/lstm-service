{
 "cells": [
  {
   "cell_type": "code",
   "execution_count": 1,
   "id": "ed9c024e",
   "metadata": {},
   "outputs": [],
   "source": [
    "import tensorflow as tf\n",
    "import gym\n",
    "import stable_baselines3\n",
    "import seaborn\n",
    "import matplotlib\n",
    "import tqdm"
   ]
  },
  {
   "cell_type": "code",
   "execution_count": 2,
   "id": "cba02f44",
   "metadata": {},
   "outputs": [
    {
     "name": "stdout",
     "output_type": "stream",
     "text": [
      "tensorflow:        2.9.1\n",
      "gym:               0.21.0\n",
      "stable-baselines3: 1.5.0\n",
      "seaborn:           0.11.2\n",
      "matplotlib:        3.5.2\n",
      "tqdm:              4.64.0\n"
     ]
    }
   ],
   "source": [
    "print(f\"tensorflow:        {tf.__version__}\")\n",
    "print(f\"gym:               {gym.__version__}\")\n",
    "print(f\"stable-baselines3: {stable_baselines3.__version__}\")\n",
    "print(f\"seaborn:           {seaborn.__version__}\")\n",
    "print(f\"matplotlib:        {matplotlib.__version__}\")\n",
    "print(f\"tqdm:              {tqdm.__version__}\")"
   ]
  },
  {
   "cell_type": "code",
   "execution_count": null,
   "id": "143d3ecc",
   "metadata": {},
   "outputs": [],
   "source": []
  }
 ],
 "metadata": {
  "kernelspec": {
   "display_name": "deep_rl",
   "language": "python",
   "name": "deep_rl"
  },
  "language_info": {
   "codemirror_mode": {
    "name": "ipython",
    "version": 3
   },
   "file_extension": ".py",
   "mimetype": "text/x-python",
   "name": "python",
   "nbconvert_exporter": "python",
   "pygments_lexer": "ipython3",
   "version": "3.8.10"
  }
 },
 "nbformat": 4,
 "nbformat_minor": 5
}
