{
 "cells": [
  {
   "cell_type": "markdown",
   "id": "7d7a1365",
   "metadata": {},
   "source": [
    "### Environment: MountainCar-v0"
   ]
  },
  {
   "cell_type": "code",
   "execution_count": 8,
   "id": "c97066af",
   "metadata": {
    "scrolled": true
   },
   "outputs": [
    {
     "name": "stdout",
     "output_type": "stream",
     "text": [
      "Initial Observation: [-0.42813018  0.        ]\n",
      "Possible Actions:    3\n",
      "\n",
      "(1) taking action: 1\n",
      "got reward: -1.0. New state/observation: [-0.42883644 -0.00070627]\n",
      "\n",
      "(2) taking action: 0\n",
      "got reward: -1.0. New state/observation: [-0.4312439  -0.00240745]\n",
      "\n",
      "(3) taking action: 2\n",
      "got reward: -1.0. New state/observation: [-0.43333519 -0.00209128]\n",
      "\n",
      "(4) taking action: 2\n",
      "got reward: -1.0. New state/observation: [-0.4350952  -0.00176002]\n",
      "\n",
      "(5) taking action: 1\n",
      "got reward: -1.0. New state/observation: [-0.4375112  -0.00241602]\n"
     ]
    },
    {
     "data": {
      "image/png": "[encoded data removed]",
      "text/plain": [
       "<Figure size 432x288 with 1 Axes>"
      ]
     },
     "metadata": {
      "needs_background": "light"
     },
     "output_type": "display_data"
    }
   ],
   "source": [
    "import gym\n",
    "from matplotlib import pyplot as plt\n",
    "\n",
    "env = gym.make(\"MountainCar-v0\")\n",
    "# reset environment and get initial observation/state\n",
    "# observation/state is a tuple of (position, velocity)\n",
    "obs = env.reset()\n",
    "print(f\"Initial Observation: {obs}\")\n",
    "print(f\"Possible Actions:    {env.action_space.n}\")\n",
    "\n",
    "# reinforcement learning is all about learning to\n",
    "# take good actions from a given state/observation\n",
    "\n",
    "# right now take a random action from policy\n",
    "def policy(observation):\n",
    "    return env.action_space.sample()\n",
    "\n",
    "# take 5 random actions/steps\n",
    "for i in range(5):\n",
    "    # to render environment for visual inspection\n",
    "    # when you train, you can skip rendering to speed up\n",
    "    plt.imshow(env.render(mode=\"rgb_array\"))\n",
    "    \n",
    "    # based on current policy, use the current observation\n",
    "    # to find the best action to take\n",
    "    action = policy(obs)\n",
    "    print(f\"\\n({i+1}) taking action: {action}\")\n",
    "    \n",
    "    # pass the action to env which will return back\n",
    "    # with new \"state/observation\" and \"reward\"\n",
    "    # there is a \"done\" flag which is true when game ends\n",
    "    # \"info\" provides some diagnostic information\n",
    "    obs, reward, done, info = env.step(action)\n",
    "    print(f\"got reward: {reward}. New state/observation: {obs}\")\n",
    "\n",
    "# close the environment\n",
    "env.close()"
   ]
  },
  {
   "cell_type": "markdown",
   "id": "ce78ab7e",
   "metadata": {},
   "source": [
    "### Environment: MountainCar-v0"
   ]
  },
  {
   "cell_type": "code",
   "execution_count": 7,
   "id": "b7843956",
   "metadata": {
    "scrolled": true
   },
   "outputs": [
    {
     "name": "stdout",
     "output_type": "stream",
     "text": [
      "Initial Observation: [-0.0384998   0.01379058 -0.00019364  0.01743337]\n",
      "Possible Actions:    2\n",
      "\n",
      "(1) taking action: 0\n",
      "got reward: 1.0. New state/observation: [-3.8223989e-02 -1.8132859e-01  1.5502963e-04  3.1005520e-01]\n",
      "\n",
      "(2) taking action: 0\n",
      "got reward: 1.0. New state/observation: [-0.04185056 -0.37645274  0.00635613  0.602787  ]\n",
      "\n",
      "(3) taking action: 0\n",
      "got reward: 1.0. New state/observation: [-0.04937961 -0.571663    0.01841187  0.89746517]\n",
      "\n",
      "(4) taking action: 1\n",
      "got reward: 1.0. New state/observation: [-0.06081288 -0.37679544  0.03636118  0.61062616]\n",
      "\n",
      "(5) taking action: 1\n",
      "got reward: 1.0. New state/observation: [-0.06834878 -0.18220009  0.0485737   0.3296139 ]\n"
     ]
    },
    {
     "data": {
      "image/png": "[encoded data removed]",
      "text/plain": [
       "<Figure size 432x288 with 1 Axes>"
      ]
     },
     "metadata": {
      "needs_background": "light"
     },
     "output_type": "display_data"
    }
   ],
   "source": [
    "env = gym.make(\"CartPole-v1\")\n",
    "obs = env.reset()\n",
    "print(f\"Initial Observation: {obs}\")\n",
    "print(f\"Possible Actions:    {env.action_space.n}\")\n",
    "\n",
    "def policy(observation):\n",
    "    return env.action_space.sample()\n",
    "\n",
    "for i in range(5):\n",
    "    plt.imshow(env.render(mode=\"rgb_array\"))\n",
    "    \n",
    "    action = policy(obs)\n",
    "    print(f\"\\n({i+1}) taking action: {action}\")\n",
    "    \n",
    "    obs, reward, donw, info = env.step(action)\n",
    "    print(f\"got reward: {reward}. New state/observation: {obs}\")\n",
    "\n",
    "env.close()"
   ]
  },
  {
   "cell_type": "code",
   "execution_count": null,
   "id": "d6e20955",
   "metadata": {},
   "outputs": [],
   "source": []
  }
 ],
 "metadata": {
  "kernelspec": {
   "display_name": "deep_rl",
   "language": "python",
   "name": "deep_rl"
  },
  "language_info": {
   "codemirror_mode": {
    "name": "ipython",
    "version": 3
   },
   "file_extension": ".py",
   "mimetype": "text/x-python",
   "name": "python",
   "nbconvert_exporter": "python",
   "pygments_lexer": "ipython3",
   "version": "3.8.10"
  }
 },
 "nbformat": 4,
 "nbformat_minor": 5
}
