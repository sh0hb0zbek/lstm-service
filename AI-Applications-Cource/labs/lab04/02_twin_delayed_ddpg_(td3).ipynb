{
 "cells": [
  {
   "cell_type": "code",
   "execution_count": 1,
   "id": "3246326a",
   "metadata": {},
   "outputs": [],
   "source": [
    "from source import *\n",
    "import tensorflow as tf\n",
    "from tensorflow.keras import layers"
   ]
  },
  {
   "cell_type": "markdown",
   "id": "dfe9ebd2",
   "metadata": {},
   "source": [
    "### Make an environment |'Pendulum-v1'|"
   ]
  },
  {
   "cell_type": "code",
   "execution_count": 2,
   "id": "aca4ba2a",
   "metadata": {},
   "outputs": [
    {
     "name": "stdout",
     "output_type": "stream",
     "text": [
      "State shape: (3,)\n",
      "Action shape: (1,)\n"
     ]
    },
    {
     "data": {
      "image/png": "[encoded data removed]",
      "text/plain": [
       "<Figure size 432x288 with 1 Axes>"
      ]
     },
     "metadata": {
      "needs_background": "light"
     },
     "output_type": "display_data"
    }
   ],
   "source": [
    "env_name = 'Pendulum-v1'\n",
    "\n",
    "env = make_env(env_name)\n",
    "env.reset()\n",
    "plt.imshow(env.render(\"rgb_array\"))\n",
    "state_shape, action_shape = env.observation_space.shape, env.action_space.shape\n",
    "print('State shape: {}'.format(state_shape))\n",
    "print('Action shape: {}'.format(action_shape))\n",
    "env.close()"
   ]
  },
  {
   "cell_type": "markdown",
   "id": "299f7976",
   "metadata": {},
   "source": [
    "### Build Policy Agent (Actor)"
   ]
  },
  {
   "cell_type": "code",
   "execution_count": 3,
   "id": "6b871668",
   "metadata": {},
   "outputs": [],
   "source": [
    "class MLPActor(tf.keras.Model):\n",
    "    def __init__(self, state_dim, act_dim, act_limit):\n",
    "        super().__init__()\n",
    "        self.act_limit = act_limit\n",
    "        self.fc1 = layers.Dense(256, activation=\"relu\")\n",
    "        self.fc2 = layers.Dense(256, activation=\"relu\")\n",
    "        self.actor = layers.Dense(act_dim)\n",
    "    \n",
    "    def call(self, s):\n",
    "        x = self.fc1(s)\n",
    "        x = self.fc2(x)\n",
    "        x = self.actor(x)\n",
    "        x = tf.keras.activations.tanh(x)  # to output in range(-1,1)\n",
    "        x = self.act_limit * x\n",
    "        return x"
   ]
  },
  {
   "cell_type": "markdown",
   "id": "8612729e",
   "metadata": {},
   "source": [
    "### Build Q-Network (Critic)"
   ]
  },
  {
   "cell_type": "code",
   "execution_count": 4,
   "id": "a8e9db8f",
   "metadata": {},
   "outputs": [],
   "source": [
    "class MLPQFunction(tf.keras.Model):\n",
    "    def __init__(self, state_dim, act_dim):\n",
    "        super().__init__()\n",
    "        self.fc1 = layers.Dense(256, activation=\"relu\")\n",
    "        self.fc2 = layers.Dense(256, activation=\"relu\")\n",
    "        self.Q = layers.Dense(1)\n",
    "    \n",
    "    def call(self, s, a):\n",
    "        x = tf.concat([s,a], axis=-1)\n",
    "        x = self.fc1(x)\n",
    "        x = self.fc2(x)\n",
    "        q = self.Q(x)\n",
    "        return tf.squeeze(q, -1)"
   ]
  },
  {
   "cell_type": "markdown",
   "id": "1696a89f",
   "metadata": {},
   "source": [
    "### Combine Actor and Critic models into a single model"
   ]
  },
  {
   "cell_type": "code",
   "execution_count": 5,
   "id": "3b609d37",
   "metadata": {},
   "outputs": [],
   "source": [
    "class MLPActorCritic(tf.keras.Model):\n",
    "    def __init__(self, observation_space, action_space):\n",
    "        super().__init__()\n",
    "        self.state_dim = observation_space.shape[0]\n",
    "        self.act_dim = action_space.shape[0]\n",
    "        self.act_limit = action_space.high[0]\n",
    "        #build Q and policy functions\n",
    "        self.q1 = MLPQFunction(self.state_dim, self.act_dim)\n",
    "        self.q2 = MLPQFunction(self.state_dim, self.act_dim)\n",
    "        self.policy = MLPActor(self.state_dim, self.act_dim, self.act_limit)\n",
    "        \n",
    "    def act(self, state):\n",
    "        return self.policy(state).numpy()\n",
    "\n",
    "    def get_action(self, s, noise_scale):\n",
    "        a = self.act(s.reshape(1,-1).astype(\"float32\")).reshape(-1)\n",
    "        a += noise_scale * np.random.randn(self.act_dim)\n",
    "        return np.clip(a, -self.act_limit, self.act_limit)"
   ]
  },
  {
   "cell_type": "markdown",
   "id": "b46676be",
   "metadata": {},
   "source": [
    "### Training Hyperparameters"
   ]
  },
  {
   "cell_type": "code",
   "execution_count": 6,
   "id": "0f556c4f",
   "metadata": {},
   "outputs": [],
   "source": [
    "steps_per_epoch = 4000\n",
    "epochs = 5\n",
    "replay_size = 1e6\n",
    "batch_size = 64\n",
    "update_every = 50\n",
    "start_steps = 1e4"
   ]
  },
  {
   "cell_type": "markdown",
   "id": "a6699857",
   "metadata": {},
   "source": [
    "### Experience Buffer"
   ]
  },
  {
   "cell_type": "code",
   "execution_count": 7,
   "id": "83d0ee59",
   "metadata": {},
   "outputs": [],
   "source": [
    "replay_buffer = ReplayBuffer(replay_size)"
   ]
  },
  {
   "cell_type": "markdown",
   "id": "5f7ad03a",
   "metadata": {},
   "source": [
    "### Make the environments"
   ]
  },
  {
   "cell_type": "code",
   "execution_count": 8,
   "id": "590fd977",
   "metadata": {},
   "outputs": [],
   "source": [
    "env = make_env(env_name)\n",
    "test_env = make_env(env_name)"
   ]
  },
  {
   "cell_type": "markdown",
   "id": "70e91c09",
   "metadata": {},
   "source": [
    "### Make an agent"
   ]
  },
  {
   "cell_type": "code",
   "execution_count": 9,
   "id": "75f03328",
   "metadata": {},
   "outputs": [
    {
     "name": "stderr",
     "output_type": "stream",
     "text": [
      "2022-08-23 11:35:44.304040: I tensorflow/core/platform/cpu_feature_guard.cc:193] This TensorFlow binary is optimized with oneAPI Deep Neural Network Library (oneDNN) to use the following CPU instructions in performance-critical operations:  AVX2 FMA\n",
      "To enable them in other operations, rebuild TensorFlow with the appropriate compiler flags.\n"
     ]
    }
   ],
   "source": [
    "agent = MLPActorCritic(env.observation_space, env.action_space)"
   ]
  },
  {
   "cell_type": "markdown",
   "id": "f561aa54",
   "metadata": {},
   "source": [
    "### Train the agent"
   ]
  },
  {
   "cell_type": "code",
   "execution_count": 10,
   "id": "57c92b57",
   "metadata": {},
   "outputs": [
    {
     "name": "stdout",
     "output_type": "stream",
     "text": [
      "INFO:tensorflow:Assets written to: ram://d9c94fb6-758f-4899-9403-d57514e81af1/assets\n",
      "WARNING:tensorflow:No training configuration found in save file, so the model was *not* compiled. Compile it manually.\n",
      "INFO:tensorflow:Assets written to: ram://47316f23-4bd6-4442-b8d5-3063caf259c0/assets\n",
      "WARNING:tensorflow:No training configuration found in save file, so the model was *not* compiled. Compile it manually.\n",
      "INFO:tensorflow:Assets written to: ram://9f2b2541-bb6e-4b42-aa3a-d8b305cd9e68/assets\n",
      "WARNING:tensorflow:No training configuration found in save file, so the model was *not* compiled. Compile it manually.\n",
      "End of epoch: 1, Training Average Reward: -5011, Training Average Length: 1000\n",
      "End of epoch: 1, Test Average Reward: -6004, Test Average Length: 1000\n",
      "End of epoch: 2, Training Average Reward: -5978, Training Average Length: 1000\n",
      "End of epoch: 2, Test Average Reward: -199, Test Average Length: 1000\n",
      "End of epoch: 3, Training Average Reward: -2541, Training Average Length: 1000\n",
      "End of epoch: 3, Test Average Reward: -109, Test Average Length: 1000\n",
      "End of epoch: 4, Training Average Reward: -95, Training Average Length: 1000\n",
      "End of epoch: 4, Test Average Reward: -64, Test Average Length: 1000\n",
      "End of epoch: 5, Training Average Reward: -259, Training Average Length: 1000\n",
      "End of epoch: 5, Test Average Reward: -140, Test Average Length: 1000\n"
     ]
    }
   ],
   "source": [
    "agent = td3(env, test_env, agent, steps_per_epoch=steps_per_epoch, epochs=epochs, replay_size=replay_size,\n",
    "            batch_size=batch_size, update_every=update_every, start_steps=start_steps)"
   ]
  },
  {
   "cell_type": "markdown",
   "id": "6b120f18",
   "metadata": {},
   "source": [
    "### Generate Animate of learned (trained) Policy Agent"
   ]
  },
  {
   "cell_type": "code",
   "execution_count": 11,
   "id": "39cf1aa1",
   "metadata": {},
   "outputs": [
    {
     "name": "stdout",
     "output_type": "stream",
     "text": [
      "Reward: -118.61512428103882\n"
     ]
    },
    {
     "data": {
      "text/html": [
       "<video alt=\"test\" controls>\n",
       "                <source src=\"data:video/mp4;base64,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\" type=\"video/mp4\" />\n",
       "                 </video>"
      ],
      "text/plain": [
       "<IPython.core.display.HTML object>"
      ]
     },
     "execution_count": 11,
     "metadata": {},
     "output_type": "execute_result"
    }
   ],
   "source": [
    "# Animate learned policy\n",
    "save_dir='./videos/td3/pendulum'\n",
    "env = gym.make(env_name)\n",
    "generate_animation(env, agent, save_dir=save_dir)\n",
    "[filepath] = glob.glob(os.path.join(save_dir, '*.mp4'))\n",
    "display_animation(filepath)"
   ]
  },
  {
   "cell_type": "code",
   "execution_count": null,
   "id": "48f2b68d",
   "metadata": {},
   "outputs": [],
   "source": []
  }
 ],
 "metadata": {
  "kernelspec": {
   "display_name": "deep_rl",
   "language": "python",
   "name": "deep_rl"
  },
  "language_info": {
   "codemirror_mode": {
    "name": "ipython",
    "version": 3
   },
   "file_extension": ".py",
   "mimetype": "text/x-python",
   "name": "python",
   "nbconvert_exporter": "python",
   "pygments_lexer": "ipython3",
   "version": "3.8.10"
  }
 },
 "nbformat": 4,
 "nbformat_minor": 5
}
