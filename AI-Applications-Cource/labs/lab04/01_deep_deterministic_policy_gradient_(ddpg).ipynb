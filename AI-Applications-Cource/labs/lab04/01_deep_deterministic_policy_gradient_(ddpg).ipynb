{
 "cells": [
  {
   "cell_type": "markdown",
   "id": "6db159b5",
   "metadata": {},
   "source": [
    "# Deep Deterministic Policy Gradient (DDPG)"
   ]
  },
  {
   "cell_type": "code",
   "execution_count": 1,
   "id": "d1881211",
   "metadata": {},
   "outputs": [],
   "source": [
    "from source import *\n",
    "import tensorflow as tf\n",
    "from tensorflow.keras import layers # , Model, Input"
   ]
  },
  {
   "cell_type": "markdown",
   "id": "c3715d0d",
   "metadata": {},
   "source": [
    "### Make an environment |'Pendulum-v1'|"
   ]
  },
  {
   "cell_type": "code",
   "execution_count": 2,
   "id": "7873487c",
   "metadata": {},
   "outputs": [
    {
     "name": "stdout",
     "output_type": "stream",
     "text": [
      "State shape: (3,)\n",
      "Action shape: (1,)\n"
     ]
    },
    {
     "data": {
      "image/png": "[encoded data removed]",
      "text/plain": [
       "<Figure size 432x288 with 1 Axes>"
      ]
     },
     "metadata": {
      "needs_background": "light"
     },
     "output_type": "display_data"
    }
   ],
   "source": [
    "env_name = 'Pendulum-v1'\n",
    "\n",
    "env = make_env(env_name)\n",
    "env.reset()\n",
    "plt.imshow(env.render(\"rgb_array\"))\n",
    "state_shape, action_shape = env.observation_space.shape, env.action_space.shape\n",
    "print('State shape: {}'.format(state_shape))\n",
    "print('Action shape: {}'.format(action_shape))\n",
    "env.close()"
   ]
  },
  {
   "cell_type": "markdown",
   "id": "1c19cc36",
   "metadata": {},
   "source": [
    "### Build Policy Agent (Actor)"
   ]
  },
  {
   "cell_type": "code",
   "execution_count": 3,
   "id": "d9d4d930",
   "metadata": {},
   "outputs": [],
   "source": [
    "class MLPActor(tf.keras.Model):\n",
    "    def __init__(self, state_dim, act_dim, act_limit):\n",
    "        super().__init__()\n",
    "        self.act_limit = act_limit\n",
    "        self.fc1 = layers.Dense(256, activation=\"relu\")\n",
    "        self.fc2 = layers.Dense(256, activation=\"relu\")\n",
    "        self.actor = layers.Dense(act_dim)\n",
    "    \n",
    "    def call(self, s):\n",
    "        x = self.fc1(s)\n",
    "        x = self.fc2(x)\n",
    "        x = self.actor(x)\n",
    "        x = tf.keras.activations.tanh(x)  # to output in range(-1,1)\n",
    "        x = self.act_limit * x\n",
    "        return x"
   ]
  },
  {
   "cell_type": "markdown",
   "id": "39f3e6b7",
   "metadata": {},
   "source": [
    "### Build Q-Network (Critic)"
   ]
  },
  {
   "cell_type": "code",
   "execution_count": 4,
   "id": "a90e0018",
   "metadata": {},
   "outputs": [],
   "source": [
    "class MLPQFunction(tf.keras.Model):\n",
    "    def __init__(self, state_dim, act_dim):\n",
    "        super().__init__()\n",
    "        self.fc1 = layers.Dense(256, activation=\"relu\")\n",
    "        self.fc2 = layers.Dense(256, activation=\"relu\")\n",
    "        self.Q = layers.Dense(1)\n",
    "    \n",
    "    def call(self, s, a):\n",
    "        x = tf.concat([s,a], axis=-1)\n",
    "        x = self.fc1(x)\n",
    "        x = self.fc2(x)\n",
    "        q = self.Q(x)\n",
    "        return tf.squeeze(q, -1)"
   ]
  },
  {
   "cell_type": "markdown",
   "id": "bea80797",
   "metadata": {},
   "source": [
    "### Combine Actor and Critic models into a single model"
   ]
  },
  {
   "cell_type": "code",
   "execution_count": 5,
   "id": "84918396",
   "metadata": {},
   "outputs": [],
   "source": [
    "class MLPActorCritic(tf.keras.Model):\n",
    "    def __init__(self, observation_space, action_space):\n",
    "        super().__init__()\n",
    "        self.state_dim = observation_space.shape[0]\n",
    "        self.act_dim = action_space.shape[0]\n",
    "        self.act_limit = action_space.high[0]\n",
    "        \n",
    "        #build Q and policy functions\n",
    "        self.q = MLPQFunction(self.state_dim, self.act_dim)\n",
    "        self.policy = MLPActor(self.state_dim, self.act_dim, self.act_limit)\n",
    "        \n",
    "    def act(self, state):\n",
    "        return self.policy(state).numpy()\n",
    "\n",
    "    def get_action(self, s, noise_scale):\n",
    "        a = self.act(s.reshape(1,-1).astype(\"float32\")).reshape(-1)\n",
    "        a += noise_scale * np.random.randn(self.act_dim)\n",
    "        return np.clip(a, -self.act_limit, self.act_limit)"
   ]
  },
  {
   "cell_type": "markdown",
   "id": "f4fa1d1e",
   "metadata": {},
   "source": [
    "### Training Hyperparameters"
   ]
  },
  {
   "cell_type": "code",
   "execution_count": 6,
   "id": "22f3aea0",
   "metadata": {},
   "outputs": [],
   "source": [
    "steps_per_epoch = 4000\n",
    "epochs = 5\n",
    "replay_size = 1e6\n",
    "batch_size = 64\n",
    "update_every = 50\n",
    "start_steps = 1e4"
   ]
  },
  {
   "cell_type": "markdown",
   "id": "b960c573",
   "metadata": {},
   "source": [
    "### Experience Buffer"
   ]
  },
  {
   "cell_type": "code",
   "execution_count": 7,
   "id": "aa69f539",
   "metadata": {},
   "outputs": [],
   "source": [
    "replay_buffer = ReplayBuffer(replay_size)"
   ]
  },
  {
   "cell_type": "markdown",
   "id": "db9ea265",
   "metadata": {},
   "source": [
    "### Make the environments"
   ]
  },
  {
   "cell_type": "code",
   "execution_count": 8,
   "id": "5e70c18b",
   "metadata": {},
   "outputs": [],
   "source": [
    "env = make_env(env_name)\n",
    "test_env = make_env(env_name)"
   ]
  },
  {
   "cell_type": "markdown",
   "id": "d5b3d07a",
   "metadata": {},
   "source": [
    "### Make an agent"
   ]
  },
  {
   "cell_type": "code",
   "execution_count": 9,
   "id": "ab0d9afc",
   "metadata": {},
   "outputs": [
    {
     "name": "stderr",
     "output_type": "stream",
     "text": [
      "2022-08-23 11:04:22.971062: I tensorflow/core/platform/cpu_feature_guard.cc:193] This TensorFlow binary is optimized with oneAPI Deep Neural Network Library (oneDNN) to use the following CPU instructions in performance-critical operations:  AVX2 FMA\n",
      "To enable them in other operations, rebuild TensorFlow with the appropriate compiler flags.\n"
     ]
    }
   ],
   "source": [
    "agent = MLPActorCritic(env.observation_space, env.action_space)"
   ]
  },
  {
   "cell_type": "markdown",
   "id": "4ca5d6ec",
   "metadata": {},
   "source": [
    "### Train the agent"
   ]
  },
  {
   "cell_type": "code",
   "execution_count": 10,
   "id": "61f06881",
   "metadata": {},
   "outputs": [
    {
     "name": "stdout",
     "output_type": "stream",
     "text": [
      "INFO:tensorflow:Assets written to: ram://f32c6919-fb22-4289-b76b-4126c08ff993/assets\n",
      "WARNING:tensorflow:No training configuration found in save file, so the model was *not* compiled. Compile it manually.\n",
      "INFO:tensorflow:Assets written to: ram://77db8d15-6b4b-4299-9c30-4f296b2dbf4f/assets\n",
      "WARNING:tensorflow:No training configuration found in save file, so the model was *not* compiled. Compile it manually.\n",
      "End of epoch: 1, Training Average Reward: -7212, Training Average Length: 1000\n",
      "End of epoch: 1, Test Average Reward: -2876, Test Average Length: 1000\n",
      "End of epoch: 2, Training Average Reward: -5449, Training Average Length: 1000\n",
      "End of epoch: 2, Test Average Reward: -112, Test Average Length: 1000\n",
      "End of epoch: 3, Training Average Reward: -3221, Training Average Length: 1000\n",
      "End of epoch: 3, Test Average Reward: -175, Test Average Length: 1000\n",
      "End of epoch: 4, Training Average Reward: -64, Training Average Length: 1000\n",
      "End of epoch: 4, Test Average Reward: -169, Test Average Length: 1000\n",
      "End of epoch: 5, Training Average Reward: -177, Training Average Length: 1000\n",
      "End of epoch: 5, Test Average Reward: -119, Test Average Length: 1000\n"
     ]
    }
   ],
   "source": [
    "agent = ddpg(env, test_env, agent, steps_per_epoch=steps_per_epoch, epochs=epochs, replay_size=replay_size,\n",
    "            batch_size=batch_size, update_every=update_every, start_steps=start_steps)"
   ]
  },
  {
   "cell_type": "markdown",
   "id": "1b9ef6e7",
   "metadata": {},
   "source": [
    "### Generate Animate of learned (trained) Policy Agent"
   ]
  },
  {
   "cell_type": "code",
   "execution_count": 11,
   "id": "d3debdd6",
   "metadata": {},
   "outputs": [
    {
     "name": "stdout",
     "output_type": "stream",
     "text": [
      "Reward: -116.78329783908387\n"
     ]
    },
    {
     "data": {
      "text/html": [
       "<video alt=\"test\" controls>\n",
       "                <source src=\"data:video/mp4;base64,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\" type=\"video/mp4\" />\n",
       "                 </video>"
      ],
      "text/plain": [
       "<IPython.core.display.HTML object>"
      ]
     },
     "execution_count": 11,
     "metadata": {},
     "output_type": "execute_result"
    }
   ],
   "source": [
    "# Animate learned policy\n",
    "save_dir='./videos/ddpg/pendulum'\n",
    "env = gym.make(env_name)\n",
    "generate_animation(env, agent, save_dir=save_dir)\n",
    "[filepath] = glob.glob(os.path.join(save_dir, '*.mp4'))\n",
    "display_animation(filepath)"
   ]
  },
  {
   "cell_type": "code",
   "execution_count": null,
   "id": "b1f36432",
   "metadata": {},
   "outputs": [],
   "source": []
  }
 ],
 "metadata": {
  "kernelspec": {
   "display_name": "deep_rl",
   "language": "python",
   "name": "deep_rl"
  },
  "language_info": {
   "codemirror_mode": {
    "name": "ipython",
    "version": 3
   },
   "file_extension": ".py",
   "mimetype": "text/x-python",
   "name": "python",
   "nbconvert_exporter": "python",
   "pygments_lexer": "ipython3",
   "version": "3.8.10"
  }
 },
 "nbformat": 4,
 "nbformat_minor": 5
}
